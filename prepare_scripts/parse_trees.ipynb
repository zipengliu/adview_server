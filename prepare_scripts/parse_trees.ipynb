{
 "cells": [
  {
   "cell_type": "code",
   "execution_count": 1,
   "metadata": {
    "collapsed": false
   },
   "outputs": [],
   "source": [
    "import ete3\n",
    "import os\n",
    "from pymongo import MongoClient\n",
    "from bson.objectid import ObjectId\n",
    "from pymongo.errors import DuplicateKeyError\n",
    "from pprint import pprint\n",
    "import json"
   ]
  },
  {
   "cell_type": "code",
   "execution_count": 2,
   "metadata": {
    "collapsed": false
   },
   "outputs": [],
   "source": [
    "TREES_PATH = '../data/1KP/species_level/trees/'\n",
    "INPUT_GROUP_ID = 1\n",
    "OUTPUT_FILENAME = 'input_group_%d.json' % INPUT_GROUP_ID\n",
    "TITLE = '69 Species Trees'"
   ]
  },
  {
   "cell_type": "code",
   "execution_count": 3,
   "metadata": {
    "collapsed": false
   },
   "outputs": [],
   "source": [
    "# Open MongoDB connection\n",
    "mongo_client = MongoClient('localhost', 27017)\n",
    "mongo_db = mongo_client.visphy_dev\n",
    "tree_col = mongo_db.tree\n",
    "branch_col = mongo_db.branch\n",
    "input_group_col = mongo_db.inputGroup\n",
    "entity_col = mongo_db.entity"
   ]
  },
  {
   "cell_type": "code",
   "execution_count": 4,
   "metadata": {
    "collapsed": true
   },
   "outputs": [
    {
     "name": "stdout",
     "output_type": "stream",
     "text": [
      "{u'inputGroupId': 1.0, u'_id': ObjectId('5837a01ac637b3313f44e8fb'), u'trees': [ObjectId('5837a1af7443ee13c12d70d9'), ObjectId('5837a1af7443ee13c12d70d8'), ObjectId('5837a1af7443ee13c12d70d5'), ObjectId('5837a1af7443ee13c12d70d4'), ObjectId('5837a1af7443ee13c12d70d7'), ObjectId('5837a1af7443ee13c12d70d6'), ObjectId('5837a1af7443ee13c12d70d1'), ObjectId('5837a1af7443ee13c12d70d0'), ObjectId('5837a1af7443ee13c12d70d3'), ObjectId('5837a1af7443ee13c12d70d2'), ObjectId('5837a1af7443ee13c12d70eb'), ObjectId('5837a1af7443ee13c12d70ec'), ObjectId('5837a1af7443ee13c12d70ea'), ObjectId('5837a1af7443ee13c12d70ef'), ObjectId('5837a1af7443ee13c12d70ed'), ObjectId('5837a1af7443ee13c12d70ee'), ObjectId('5837a1af7443ee13c12d70ca'), ObjectId('5837a1af7443ee13c12d70cb'), ObjectId('5837a1af7443ee13c12d70cc'), ObjectId('5837a1af7443ee13c12d70cd'), ObjectId('5837a1af7443ee13c12d70ce'), ObjectId('5837a1af7443ee13c12d70cf'), ObjectId('5837a1af7443ee13c12d70f7'), ObjectId('5837a1af7443ee13c12d70f6'), ObjectId('5837a1af7443ee13c12d70f5'), ObjectId('5837a1af7443ee13c12d70f4'), ObjectId('5837a1af7443ee13c12d70f3'), ObjectId('5837a1af7443ee13c12d70f2'), ObjectId('5837a1af7443ee13c12d70f1'), ObjectId('5837a1af7443ee13c12d70f0'), ObjectId('5837a1af7443ee13c12d70f9'), ObjectId('5837a1af7443ee13c12d70f8'), ObjectId('5837a1af7443ee13c12d70e8'), ObjectId('5837a1af7443ee13c12d70e9'), ObjectId('5837a1af7443ee13c12d70e2'), ObjectId('5837a1af7443ee13c12d70e3'), ObjectId('5837a1af7443ee13c12d70e0'), ObjectId('5837a1af7443ee13c12d70e1'), ObjectId('5837a1af7443ee13c12d70e6'), ObjectId('5837a1af7443ee13c12d70e7'), ObjectId('5837a1af7443ee13c12d70e4'), ObjectId('5837a1af7443ee13c12d70e5'), ObjectId('5837a1af7443ee13c12d70de'), ObjectId('5837a1af7443ee13c12d70dd'), ObjectId('5837a1af7443ee13c12d70df'), ObjectId('5837a1af7443ee13c12d70da'), ObjectId('5837a1af7443ee13c12d70dc'), ObjectId('5837a1af7443ee13c12d70db'), ObjectId('5837a1af7443ee13c12d70fe'), ObjectId('5837a1af7443ee13c12d70fd'), ObjectId('5837a1af7443ee13c12d70fc'), ObjectId('5837a1af7443ee13c12d70fb'), ObjectId('5837a1af7443ee13c12d70fa'), ObjectId('5837a1af7443ee13c12d70bc'), ObjectId('5837a1af7443ee13c12d70bb'), ObjectId('5837a1af7443ee13c12d70ba'), ObjectId('5837a1af7443ee13c12d70bf'), ObjectId('5837a1af7443ee13c12d70be'), ObjectId('5837a1af7443ee13c12d70bd'), ObjectId('5837a1af7443ee13c12d70c8'), ObjectId('5837a1af7443ee13c12d70c9'), ObjectId('5837a1af7443ee13c12d70c0'), ObjectId('5837a1af7443ee13c12d70c1'), ObjectId('5837a1af7443ee13c12d70c2'), ObjectId('5837a1af7443ee13c12d70c3'), ObjectId('5837a1af7443ee13c12d70c4'), ObjectId('5837a1af7443ee13c12d70c5'), ObjectId('5837a1af7443ee13c12d70c6'), ObjectId('5837a1af7443ee13c12d70c7')], u'title': u'69 Species Trees'}\n",
      "inputGroup oid:  5837a01ac637b3313f44e8fb\n"
     ]
    }
   ],
   "source": [
    "# Add input group to MongoDB\n",
    "input_group = input_group_col.find_one_and_update({'inputGroupId': INPUT_GROUP_ID}, \n",
    "                                            {'$set': {'inputGroupId': INPUT_GROUP_ID, 'title': TITLE, 'trees': []}})\n",
    "print input_group\n",
    "input_group_id = input_group['_id']\n",
    "print 'inputGroup oid: ', input_group_id"
   ]
  },
  {
   "cell_type": "code",
   "execution_count": 5,
   "metadata": {
    "collapsed": false
   },
   "outputs": [],
   "source": [
    "# Open tree files\n",
    "trees = {}\n",
    "for dirpath, dirnames, filenames in os.walk(TREES_PATH):\n",
    "    for filename in filenames:\n",
    "        if filename.endswith('.tre'):\n",
    "            with open(os.path.join(dirpath, filename)) as f:\n",
    "                new_tree = {\n",
    "                    'inputGroupId': INPUT_GROUP_ID,\n",
    "                    'newickString': f.readline(), \n",
    "                    'name': filename[:-4], \n",
    "                    'type': 'species',\n",
    "                    'rfDistance': {}\n",
    "                }\n",
    "                insert_res = tree_col.insert_one(new_tree)\n",
    "                trees[str(insert_res.inserted_id)] = new_tree"
   ]
  },
  {
   "cell_type": "code",
   "execution_count": 6,
   "metadata": {
    "collapsed": false
   },
   "outputs": [
    {
     "data": {
      "text/plain": [
       "{u'_id': ObjectId('5837a01ac637b3313f44e8fb'),\n",
       " u'inputGroupId': 1.0,\n",
       " u'title': u'69 Species Trees',\n",
       " u'trees': []}"
      ]
     },
     "execution_count": 6,
     "metadata": {},
     "output_type": "execute_result"
    }
   ],
   "source": [
    "# Put all tree ids to input group document in Mongo\n",
    "input_group_col.find_one_and_update({'_id': input_group_id}, {'$set': {'trees': [ObjectId(k) for k in trees]}}) "
   ]
  },
  {
   "cell_type": "code",
   "execution_count": 7,
   "metadata": {
    "collapsed": false
   },
   "outputs": [],
   "source": [
    "# Parse the trees\n",
    "entities = {}\n",
    "ent_names = {}\n",
    "for tid, tval in trees.iteritems():\n",
    "    root = ete3.Tree(tval['newickString'], format=2)\n",
    "    # Make sure the tree is strictly bifurcated\n",
    "    root.resolve_polytomy(recursive=True)\n",
    "    tval['ete_tree'] = root\n",
    "    # Process the leaves\n",
    "    for leaf in root:\n",
    "        if leaf.name not in ent_names:\n",
    "            ent_id = None\n",
    "            try:\n",
    "                ent_id = entity_col.insert_one({'name': leaf.name, 'type': 'species', 'inputGroupId': INPUT_GROUP_ID}).inserted_id\n",
    "            except DuplicateKeyError:\n",
    "                ent_id = entity_col.find_one({'name': leaf.name}).get('_id')\n",
    "            ent_names[leaf.name] = ent_id\n",
    "        leaf.add_feature('entity_id', ent_names[leaf.name])\n",
    "            \n",
    "    # Process the branches\n",
    "    branches = []\n",
    "    root_branch_id = branch_col.insert_one({'length': 0, 'support': 0, 'tree': ObjectId(tid), 'entities': [x.entity_id for x in root],\n",
    "                                            'inputGroupId': INPUT_GROUP_ID}).inserted_id\n",
    "    root.add_feature('branch_id', root_branch_id)\n",
    "    \n",
    "    for node in root.iter_descendants():\n",
    "        branch_id = branch_col.insert_one({'length': node.dist, 'support': node.support, \n",
    "                                           'parent': node.up.branch_id, 'tree': ObjectId(tid),\n",
    "                                          'isLeaf': node.is_leaf(), 'correspondingBranches': {},\n",
    "                                           'inputGroupId': INPUT_GROUP_ID,\n",
    "                                          'entities': [x.entity_id for x in node]}).inserted_id\n",
    "        node.add_feature('branch_id', branch_id)\n",
    "    for node in root.traverse():\n",
    "        if not node.is_leaf():\n",
    "            branch_col.find_one_and_update({'_id': node.branch_id}, \n",
    "                                           {'$set': {'left': node.children[0].branch_id, \n",
    "                                                     'right': node.children[1].branch_id}})\n",
    "            "
   ]
  },
  {
   "cell_type": "code",
   "execution_count": 8,
   "metadata": {
    "collapsed": true
   },
   "outputs": [],
   "source": [
    "for tid, tval in trees.iteritems():\n",
    "    tree_col.find_one_and_update({'_id': ObjectId(tid)}, {'$set': {'rootBranch': tval['ete_tree'].branch_id}})"
   ]
  },
  {
   "cell_type": "code",
   "execution_count": 9,
   "metadata": {
    "collapsed": false
   },
   "outputs": [],
   "source": [
    "# Calculate RF distance between any two trees\n",
    "for tid1, tval1 in trees.iteritems():\n",
    "    for tid2, tval2 in trees.iteritems():\n",
    "        if tid1 < tid2:\n",
    "            res = tval1['ete_tree'].robinson_foulds(tval2['ete_tree'])\n",
    "            #print tval1\n",
    "            tval1['rfDistance'][tid2] = res[0]\n",
    "            tval2['rfDistance'][tid1] = res[0]\n",
    "    # break\n",
    "\n"
   ]
  },
  {
   "cell_type": "code",
   "execution_count": 10,
   "metadata": {
    "collapsed": true
   },
   "outputs": [],
   "source": [
    "# Update rfDistance in MongoDB\n",
    "for tid, tval in trees.iteritems():\n",
    "    tree_col.find_one_and_update({'_id': ObjectId(tid)}, {'$set': {'rfDistance': tval['rfDistance']}})"
   ]
  },
  {
   "cell_type": "code",
   "execution_count": 11,
   "metadata": {
    "collapsed": false
   },
   "outputs": [],
   "source": [
    "for tid, tval in trees.iteritems():\n",
    "    for n in tval['ete_tree'].traverse():\n",
    "        n.add_feature('entity_set', set([x.entity_id for x in n]))"
   ]
  },
  {
   "cell_type": "code",
   "execution_count": 12,
   "metadata": {
    "collapsed": false
   },
   "outputs": [],
   "source": [
    "# Find corresponding nodes for each node in each tree\n",
    "\n",
    "# Calc Jaccard distance between two sets of entities that defined by internal node x and y\n",
    "def get_jaccard(x, y):\n",
    "    a = x.entity_set\n",
    "    b = y.entity_set\n",
    "    c = a.intersection(b)\n",
    "    return float(len(c)) / float((len(a) + len(b) - len(c)))\n",
    "\n",
    "# Find corresponding node of \"node\" from t\n",
    "# Return the corresponding node, the jaccard index\n",
    "def find_corr_node(node, t):\n",
    "    max_jaccard = 0\n",
    "    num_entities_diff = 0\n",
    "    corr_node = 0\n",
    "    epsilon = 0.001\n",
    "    for x in t.traverse('levelorder'):\n",
    "        d = get_jaccard(node, x)\n",
    "        if d > max_jaccard or (abs(d - max_jaccard) < epsilon and abs(len(node) - len(x)) < num_entities_diff):\n",
    "            max_jaccard = d\n",
    "            corr_node = x\n",
    "            num_entities_diff = abs(len(node) - len(x))\n",
    "            if abs(d - 1.0) < epsilon:\n",
    "                break\n",
    "    return corr_node, max_jaccard\n",
    "\n",
    "\n",
    "        "
   ]
  },
  {
   "cell_type": "code",
   "execution_count": 13,
   "metadata": {
    "collapsed": false
   },
   "outputs": [
    {
     "name": "stdout",
     "output_type": "stream",
     "text": [
      "5837a6cf7443ee13f7d126f9\n",
      "5837a6cf7443ee13f7d126f8\n",
      "5837a6cf7443ee13f7d1270c\n",
      "5837a6cf7443ee13f7d126f1\n",
      "5837a6cf7443ee13f7d126f0\n",
      "5837a6cf7443ee13f7d126f3\n",
      "5837a6cf7443ee13f7d126f2\n",
      "5837a6cf7443ee13f7d126f5\n",
      "5837a6cf7443ee13f7d126f4\n",
      "5837a6cf7443ee13f7d126f7\n",
      "5837a6cf7443ee13f7d126f6\n",
      "5837a6cf7443ee13f7d1270e\n",
      "5837a6cf7443ee13f7d12706\n",
      "5837a6cf7443ee13f7d126ea\n",
      "5837a6cf7443ee13f7d126eb\n",
      "5837a6cf7443ee13f7d126ec\n",
      "5837a6cf7443ee13f7d126ed\n",
      "5837a6cf7443ee13f7d126ee\n",
      "5837a6cf7443ee13f7d126ef\n",
      "5837a6cf7443ee13f7d12701\n",
      "5837a6cf7443ee13f7d1270d\n",
      "5837a6cf7443ee13f7d12708\n",
      "5837a6cf7443ee13f7d12709\n",
      "5837a6cf7443ee13f7d126d3\n",
      "5837a6cf7443ee13f7d126d2\n",
      "5837a6cf7443ee13f7d126d1\n",
      "5837a6cf7443ee13f7d126d0\n",
      "5837a6cf7443ee13f7d126d7\n",
      "5837a6cf7443ee13f7d126d6\n",
      "5837a6cf7443ee13f7d126d5\n",
      "5837a6cf7443ee13f7d126d4\n",
      "5837a6cf7443ee13f7d12703\n",
      "5837a6cf7443ee13f7d1270b\n",
      "5837a6cf7443ee13f7d126d9\n",
      "5837a6cf7443ee13f7d126d8\n",
      "5837a6cf7443ee13f7d12700\n",
      "5837a6cf7443ee13f7d12707\n",
      "5837a6cf7443ee13f7d1270a\n",
      "5837a6cf7443ee13f7d12704\n",
      "5837a6cf7443ee13f7d12711\n",
      "5837a6cf7443ee13f7d12705\n",
      "5837a6cf7443ee13f7d12710\n",
      "5837a6cf7443ee13f7d126fa\n",
      "5837a6cf7443ee13f7d12702\n",
      "5837a6cf7443ee13f7d126fc\n",
      "5837a6cf7443ee13f7d126fb\n",
      "5837a6cf7443ee13f7d126fe\n",
      "5837a6cf7443ee13f7d126fd\n",
      "5837a6cf7443ee13f7d126ff\n",
      "5837a6cf7443ee13f7d126dc\n",
      "5837a6cf7443ee13f7d126db\n",
      "5837a6cf7443ee13f7d126da\n",
      "5837a6cf7443ee13f7d126df\n",
      "5837a6cf7443ee13f7d126de\n",
      "5837a6cf7443ee13f7d126dd\n",
      "5837a6cf7443ee13f7d1270f\n",
      "5837a6cf7443ee13f7d126e0\n",
      "5837a6cf7443ee13f7d126e1\n",
      "5837a6cf7443ee13f7d126e2\n",
      "5837a6cf7443ee13f7d126e3\n",
      "5837a6cf7443ee13f7d126e4\n",
      "5837a6cf7443ee13f7d126e5\n",
      "5837a6cf7443ee13f7d126e6\n",
      "5837a6cf7443ee13f7d126e7\n",
      "5837a6cf7443ee13f7d126e8\n",
      "5837a6cf7443ee13f7d126e9\n",
      "5837a6cf7443ee13f7d12713\n",
      "5837a6cf7443ee13f7d12712\n",
      "5837a6cf7443ee13f7d12714\n"
     ]
    }
   ],
   "source": [
    "# For every pair of tree, iterate over every node in trees\n",
    "# TODO TOO SLOW!!!!!\n",
    "for tid1, tval1 in trees.iteritems():\n",
    "    t1 = tval1['ete_tree']\n",
    "    for n in t1.traverse('levelorder'):\n",
    "        corr = {}\n",
    "        for tid2, tval2 in trees.iteritems():\n",
    "            if tid1 != tid2:\n",
    "                t2 = tval2['ete_tree']\n",
    "           \n",
    "                c, max_jaccard = find_corr_node(n, t2)\n",
    "                # print 'corr found', c, max_jaccard\n",
    "                corr[tid2] = {\n",
    "                    'branchId': c.branch_id,\n",
    "                    'jaccard': max_jaccard\n",
    "                }\n",
    "        # n.add_feature('corr_branches', corr)\n",
    "        branch_col.find_one_and_update({'_id': n.branch_id}, {'$set': {'correspondingBranches': corr}})\n",
    "    print tid1\n",
    "                                \n",
    "            "
   ]
  },
  {
   "cell_type": "code",
   "execution_count": 17,
   "metadata": {
    "collapsed": false
   },
   "outputs": [],
   "source": [
    "# Format branches\n",
    "def format_branch(node):\n",
    "    if node.is_root():\n",
    "        return {}\n",
    "    else:\n",
    "        return {\n",
    "            'length': node.dist,\n",
    "            'support': node.support,\n",
    "            'isLeaf': node.is_leaf(),\n",
    "            'left': str(node.children[0].branch_id) if not node.is_leaf() else None,\n",
    "            'right': str(node.children[1].branch_id) if not node.is_leaf() else None,\n",
    "            'entities': [x.entity_id for x in node],\n",
    "            #'correspondingBranches': node.correspondingBranches\n",
    "        }\n",
    "\n",
    "for _, tval in trees.iteritems():\n",
    "    tval['branches'] = {node.branch_id: format_branch(node) for node in tval['ete_tree'].traverse('levelorder')}\n",
    "    # print tval['branches']\n",
    "    # break\n"
   ]
  },
  {
   "cell_type": "code",
   "execution_count": 21,
   "metadata": {
    "collapsed": false
   },
   "outputs": [],
   "source": [
    "# Format trees\n",
    "def format_tree(t):\n",
    "    return {\n",
    "        'type': t['type'],\n",
    "        'entities': [x.entity_id for x in t['ete_tree']],\n",
    "        'branches': t['branches'],\n",
    "        'rootBranch': t['ete_tree'].branch_id,\n",
    "        'rfDistance': t['rfDistance']      \n",
    "    }\n",
    "output_trees = {tid: format_tree(tval) for tid, tval in trees.iteritems()}\n"
   ]
  },
  {
   "cell_type": "code",
   "execution_count": 22,
   "metadata": {
    "collapsed": false
   },
   "outputs": [
    {
     "ename": "TypeError",
     "evalue": "ObjectId('5837a6d07443ee13f7d12715') is not JSON serializable",
     "output_type": "error",
     "traceback": [
      "\u001b[0;31m---------------------------------------------------------------------------\u001b[0m",
      "\u001b[0;31mTypeError\u001b[0m                                 Traceback (most recent call last)",
      "\u001b[0;32m<ipython-input-22-f96cd798db29>\u001b[0m in \u001b[0;36m<module>\u001b[0;34m()\u001b[0m\n\u001b[1;32m      7\u001b[0m \u001b[0;34m\u001b[0m\u001b[0m\n\u001b[1;32m      8\u001b[0m \u001b[0mfp\u001b[0m \u001b[0;34m=\u001b[0m \u001b[0mopen\u001b[0m\u001b[0;34m(\u001b[0m\u001b[0mOUTPUT_FILENAME\u001b[0m\u001b[0;34m,\u001b[0m \u001b[0;34m'w'\u001b[0m\u001b[0;34m)\u001b[0m\u001b[0;34m\u001b[0m\u001b[0m\n\u001b[0;32m----> 9\u001b[0;31m \u001b[0mjson\u001b[0m\u001b[0;34m.\u001b[0m\u001b[0mdump\u001b[0m\u001b[0;34m(\u001b[0m\u001b[0mdataset\u001b[0m\u001b[0;34m,\u001b[0m \u001b[0mfp\u001b[0m\u001b[0;34m)\u001b[0m\u001b[0;34m\u001b[0m\u001b[0m\n\u001b[0m\u001b[1;32m     10\u001b[0m \u001b[0mfp\u001b[0m\u001b[0;34m.\u001b[0m\u001b[0mclose\u001b[0m\u001b[0;34m(\u001b[0m\u001b[0;34m)\u001b[0m\u001b[0;34m\u001b[0m\u001b[0m\n",
      "\u001b[0;32m/Users/winnieliu/miniconda2/lib/python2.7/json/__init__.pyc\u001b[0m in \u001b[0;36mdump\u001b[0;34m(obj, fp, skipkeys, ensure_ascii, check_circular, allow_nan, cls, indent, separators, encoding, default, sort_keys, **kw)\u001b[0m\n\u001b[1;32m    187\u001b[0m     \u001b[0;31m# could accelerate with writelines in some versions of Python, at\u001b[0m\u001b[0;34m\u001b[0m\u001b[0;34m\u001b[0m\u001b[0m\n\u001b[1;32m    188\u001b[0m     \u001b[0;31m# a debuggability cost\u001b[0m\u001b[0;34m\u001b[0m\u001b[0;34m\u001b[0m\u001b[0m\n\u001b[0;32m--> 189\u001b[0;31m     \u001b[0;32mfor\u001b[0m \u001b[0mchunk\u001b[0m \u001b[0;32min\u001b[0m \u001b[0miterable\u001b[0m\u001b[0;34m:\u001b[0m\u001b[0;34m\u001b[0m\u001b[0m\n\u001b[0m\u001b[1;32m    190\u001b[0m         \u001b[0mfp\u001b[0m\u001b[0;34m.\u001b[0m\u001b[0mwrite\u001b[0m\u001b[0;34m(\u001b[0m\u001b[0mchunk\u001b[0m\u001b[0;34m)\u001b[0m\u001b[0;34m\u001b[0m\u001b[0m\n\u001b[1;32m    191\u001b[0m \u001b[0;34m\u001b[0m\u001b[0m\n",
      "\u001b[0;32m/Users/winnieliu/miniconda2/lib/python2.7/json/encoder.pyc\u001b[0m in \u001b[0;36m_iterencode\u001b[0;34m(o, _current_indent_level)\u001b[0m\n\u001b[1;32m    432\u001b[0m                 \u001b[0;32myield\u001b[0m \u001b[0mchunk\u001b[0m\u001b[0;34m\u001b[0m\u001b[0m\n\u001b[1;32m    433\u001b[0m         \u001b[0;32melif\u001b[0m \u001b[0misinstance\u001b[0m\u001b[0;34m(\u001b[0m\u001b[0mo\u001b[0m\u001b[0;34m,\u001b[0m \u001b[0mdict\u001b[0m\u001b[0;34m)\u001b[0m\u001b[0;34m:\u001b[0m\u001b[0;34m\u001b[0m\u001b[0m\n\u001b[0;32m--> 434\u001b[0;31m             \u001b[0;32mfor\u001b[0m \u001b[0mchunk\u001b[0m \u001b[0;32min\u001b[0m \u001b[0m_iterencode_dict\u001b[0m\u001b[0;34m(\u001b[0m\u001b[0mo\u001b[0m\u001b[0;34m,\u001b[0m \u001b[0m_current_indent_level\u001b[0m\u001b[0;34m)\u001b[0m\u001b[0;34m:\u001b[0m\u001b[0;34m\u001b[0m\u001b[0m\n\u001b[0m\u001b[1;32m    435\u001b[0m                 \u001b[0;32myield\u001b[0m \u001b[0mchunk\u001b[0m\u001b[0;34m\u001b[0m\u001b[0m\n\u001b[1;32m    436\u001b[0m         \u001b[0;32melse\u001b[0m\u001b[0;34m:\u001b[0m\u001b[0;34m\u001b[0m\u001b[0m\n",
      "\u001b[0;32m/Users/winnieliu/miniconda2/lib/python2.7/json/encoder.pyc\u001b[0m in \u001b[0;36m_iterencode_dict\u001b[0;34m(dct, _current_indent_level)\u001b[0m\n\u001b[1;32m    406\u001b[0m                 \u001b[0;32melse\u001b[0m\u001b[0;34m:\u001b[0m\u001b[0;34m\u001b[0m\u001b[0m\n\u001b[1;32m    407\u001b[0m                     \u001b[0mchunks\u001b[0m \u001b[0;34m=\u001b[0m \u001b[0m_iterencode\u001b[0m\u001b[0;34m(\u001b[0m\u001b[0mvalue\u001b[0m\u001b[0;34m,\u001b[0m \u001b[0m_current_indent_level\u001b[0m\u001b[0;34m)\u001b[0m\u001b[0;34m\u001b[0m\u001b[0m\n\u001b[0;32m--> 408\u001b[0;31m                 \u001b[0;32mfor\u001b[0m \u001b[0mchunk\u001b[0m \u001b[0;32min\u001b[0m \u001b[0mchunks\u001b[0m\u001b[0;34m:\u001b[0m\u001b[0;34m\u001b[0m\u001b[0m\n\u001b[0m\u001b[1;32m    409\u001b[0m                     \u001b[0;32myield\u001b[0m \u001b[0mchunk\u001b[0m\u001b[0;34m\u001b[0m\u001b[0m\n\u001b[1;32m    410\u001b[0m         \u001b[0;32mif\u001b[0m \u001b[0mnewline_indent\u001b[0m \u001b[0;32mis\u001b[0m \u001b[0;32mnot\u001b[0m \u001b[0mNone\u001b[0m\u001b[0;34m:\u001b[0m\u001b[0;34m\u001b[0m\u001b[0m\n",
      "\u001b[0;32m/Users/winnieliu/miniconda2/lib/python2.7/json/encoder.pyc\u001b[0m in \u001b[0;36m_iterencode_dict\u001b[0;34m(dct, _current_indent_level)\u001b[0m\n\u001b[1;32m    406\u001b[0m                 \u001b[0;32melse\u001b[0m\u001b[0;34m:\u001b[0m\u001b[0;34m\u001b[0m\u001b[0m\n\u001b[1;32m    407\u001b[0m                     \u001b[0mchunks\u001b[0m \u001b[0;34m=\u001b[0m \u001b[0m_iterencode\u001b[0m\u001b[0;34m(\u001b[0m\u001b[0mvalue\u001b[0m\u001b[0;34m,\u001b[0m \u001b[0m_current_indent_level\u001b[0m\u001b[0;34m)\u001b[0m\u001b[0;34m\u001b[0m\u001b[0m\n\u001b[0;32m--> 408\u001b[0;31m                 \u001b[0;32mfor\u001b[0m \u001b[0mchunk\u001b[0m \u001b[0;32min\u001b[0m \u001b[0mchunks\u001b[0m\u001b[0;34m:\u001b[0m\u001b[0;34m\u001b[0m\u001b[0m\n\u001b[0m\u001b[1;32m    409\u001b[0m                     \u001b[0;32myield\u001b[0m \u001b[0mchunk\u001b[0m\u001b[0;34m\u001b[0m\u001b[0m\n\u001b[1;32m    410\u001b[0m         \u001b[0;32mif\u001b[0m \u001b[0mnewline_indent\u001b[0m \u001b[0;32mis\u001b[0m \u001b[0;32mnot\u001b[0m \u001b[0mNone\u001b[0m\u001b[0;34m:\u001b[0m\u001b[0;34m\u001b[0m\u001b[0m\n",
      "\u001b[0;32m/Users/winnieliu/miniconda2/lib/python2.7/json/encoder.pyc\u001b[0m in \u001b[0;36m_iterencode_dict\u001b[0;34m(dct, _current_indent_level)\u001b[0m\n\u001b[1;32m    406\u001b[0m                 \u001b[0;32melse\u001b[0m\u001b[0;34m:\u001b[0m\u001b[0;34m\u001b[0m\u001b[0m\n\u001b[1;32m    407\u001b[0m                     \u001b[0mchunks\u001b[0m \u001b[0;34m=\u001b[0m \u001b[0m_iterencode\u001b[0m\u001b[0;34m(\u001b[0m\u001b[0mvalue\u001b[0m\u001b[0;34m,\u001b[0m \u001b[0m_current_indent_level\u001b[0m\u001b[0;34m)\u001b[0m\u001b[0;34m\u001b[0m\u001b[0m\n\u001b[0;32m--> 408\u001b[0;31m                 \u001b[0;32mfor\u001b[0m \u001b[0mchunk\u001b[0m \u001b[0;32min\u001b[0m \u001b[0mchunks\u001b[0m\u001b[0;34m:\u001b[0m\u001b[0;34m\u001b[0m\u001b[0m\n\u001b[0m\u001b[1;32m    409\u001b[0m                     \u001b[0;32myield\u001b[0m \u001b[0mchunk\u001b[0m\u001b[0;34m\u001b[0m\u001b[0m\n\u001b[1;32m    410\u001b[0m         \u001b[0;32mif\u001b[0m \u001b[0mnewline_indent\u001b[0m \u001b[0;32mis\u001b[0m \u001b[0;32mnot\u001b[0m \u001b[0mNone\u001b[0m\u001b[0;34m:\u001b[0m\u001b[0;34m\u001b[0m\u001b[0m\n",
      "\u001b[0;32m/Users/winnieliu/miniconda2/lib/python2.7/json/encoder.pyc\u001b[0m in \u001b[0;36m_iterencode_list\u001b[0;34m(lst, _current_indent_level)\u001b[0m\n\u001b[1;32m    330\u001b[0m                 \u001b[0;32melse\u001b[0m\u001b[0;34m:\u001b[0m\u001b[0;34m\u001b[0m\u001b[0m\n\u001b[1;32m    331\u001b[0m                     \u001b[0mchunks\u001b[0m \u001b[0;34m=\u001b[0m \u001b[0m_iterencode\u001b[0m\u001b[0;34m(\u001b[0m\u001b[0mvalue\u001b[0m\u001b[0;34m,\u001b[0m \u001b[0m_current_indent_level\u001b[0m\u001b[0;34m)\u001b[0m\u001b[0;34m\u001b[0m\u001b[0m\n\u001b[0;32m--> 332\u001b[0;31m                 \u001b[0;32mfor\u001b[0m \u001b[0mchunk\u001b[0m \u001b[0;32min\u001b[0m \u001b[0mchunks\u001b[0m\u001b[0;34m:\u001b[0m\u001b[0;34m\u001b[0m\u001b[0m\n\u001b[0m\u001b[1;32m    333\u001b[0m                     \u001b[0;32myield\u001b[0m \u001b[0mchunk\u001b[0m\u001b[0;34m\u001b[0m\u001b[0m\n\u001b[1;32m    334\u001b[0m         \u001b[0;32mif\u001b[0m \u001b[0mnewline_indent\u001b[0m \u001b[0;32mis\u001b[0m \u001b[0;32mnot\u001b[0m \u001b[0mNone\u001b[0m\u001b[0;34m:\u001b[0m\u001b[0;34m\u001b[0m\u001b[0m\n",
      "\u001b[0;32m/Users/winnieliu/miniconda2/lib/python2.7/json/encoder.pyc\u001b[0m in \u001b[0;36m_iterencode\u001b[0;34m(o, _current_indent_level)\u001b[0m\n\u001b[1;32m    440\u001b[0m                     \u001b[0;32mraise\u001b[0m \u001b[0mValueError\u001b[0m\u001b[0;34m(\u001b[0m\u001b[0;34m\"Circular reference detected\"\u001b[0m\u001b[0;34m)\u001b[0m\u001b[0;34m\u001b[0m\u001b[0m\n\u001b[1;32m    441\u001b[0m                 \u001b[0mmarkers\u001b[0m\u001b[0;34m[\u001b[0m\u001b[0mmarkerid\u001b[0m\u001b[0;34m]\u001b[0m \u001b[0;34m=\u001b[0m \u001b[0mo\u001b[0m\u001b[0;34m\u001b[0m\u001b[0m\n\u001b[0;32m--> 442\u001b[0;31m             \u001b[0mo\u001b[0m \u001b[0;34m=\u001b[0m \u001b[0m_default\u001b[0m\u001b[0;34m(\u001b[0m\u001b[0mo\u001b[0m\u001b[0;34m)\u001b[0m\u001b[0;34m\u001b[0m\u001b[0m\n\u001b[0m\u001b[1;32m    443\u001b[0m             \u001b[0;32mfor\u001b[0m \u001b[0mchunk\u001b[0m \u001b[0;32min\u001b[0m \u001b[0m_iterencode\u001b[0m\u001b[0;34m(\u001b[0m\u001b[0mo\u001b[0m\u001b[0;34m,\u001b[0m \u001b[0m_current_indent_level\u001b[0m\u001b[0;34m)\u001b[0m\u001b[0;34m:\u001b[0m\u001b[0;34m\u001b[0m\u001b[0m\n\u001b[1;32m    444\u001b[0m                 \u001b[0;32myield\u001b[0m \u001b[0mchunk\u001b[0m\u001b[0;34m\u001b[0m\u001b[0m\n",
      "\u001b[0;32m/Users/winnieliu/miniconda2/lib/python2.7/json/encoder.pyc\u001b[0m in \u001b[0;36mdefault\u001b[0;34m(self, o)\u001b[0m\n\u001b[1;32m    182\u001b[0m \u001b[0;34m\u001b[0m\u001b[0m\n\u001b[1;32m    183\u001b[0m         \"\"\"\n\u001b[0;32m--> 184\u001b[0;31m         \u001b[0;32mraise\u001b[0m \u001b[0mTypeError\u001b[0m\u001b[0;34m(\u001b[0m\u001b[0mrepr\u001b[0m\u001b[0;34m(\u001b[0m\u001b[0mo\u001b[0m\u001b[0;34m)\u001b[0m \u001b[0;34m+\u001b[0m \u001b[0;34m\" is not JSON serializable\"\u001b[0m\u001b[0;34m)\u001b[0m\u001b[0;34m\u001b[0m\u001b[0m\n\u001b[0m\u001b[1;32m    185\u001b[0m \u001b[0;34m\u001b[0m\u001b[0m\n\u001b[1;32m    186\u001b[0m     \u001b[0;32mdef\u001b[0m \u001b[0mencode\u001b[0m\u001b[0;34m(\u001b[0m\u001b[0mself\u001b[0m\u001b[0;34m,\u001b[0m \u001b[0mo\u001b[0m\u001b[0;34m)\u001b[0m\u001b[0;34m:\u001b[0m\u001b[0;34m\u001b[0m\u001b[0m\n",
      "\u001b[0;31mTypeError\u001b[0m: ObjectId('5837a6d07443ee13f7d12715') is not JSON serializable"
     ]
    }
   ],
   "source": [
    "# Save JSON file\n",
    "dataset = {\n",
    "    'inputGroupId': INPUT_GROUP_ID,\n",
    "    'title': TITLE,\n",
    "    'trees': output_trees\n",
    "}\n",
    "\n",
    "fp = open(OUTPUT_FILENAME, 'w')\n",
    "json.dump(dataset, fp)\n",
    "fp.close()"
   ]
  },
  {
   "cell_type": "code",
   "execution_count": null,
   "metadata": {
    "collapsed": true
   },
   "outputs": [],
   "source": []
  }
 ],
 "metadata": {
  "anaconda-cloud": {},
  "kernelspec": {
   "display_name": "Python [default]",
   "language": "python",
   "name": "python2"
  },
  "language_info": {
   "codemirror_mode": {
    "name": "ipython",
    "version": 2
   },
   "file_extension": ".py",
   "mimetype": "text/x-python",
   "name": "python",
   "nbconvert_exporter": "python",
   "pygments_lexer": "ipython2",
   "version": "2.7.12"
  }
 },
 "nbformat": 4,
 "nbformat_minor": 0
}
