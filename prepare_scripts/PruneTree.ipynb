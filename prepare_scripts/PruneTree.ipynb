{
 "cells": [
  {
   "cell_type": "code",
   "execution_count": 13,
   "metadata": {
    "collapsed": true
   },
   "outputs": [],
   "source": [
    "import ete3\n",
    "import os\n",
    "import json"
   ]
  },
  {
   "cell_type": "code",
   "execution_count": 14,
   "metadata": {
    "collapsed": false
   },
   "outputs": [
    {
     "name": "stdout",
     "output_type": "stream",
     "text": [
      "['IAJW', 'BTTS', 'NVGZ', 'WWSS', 'ZYAX', 'EFMS', 'HQOM', 'YLPM']\n"
     ]
    }
   ],
   "source": [
    "mapping_file = '../data/conifer_mapping.json'\n",
    "name_mapping = json.load(open(mapping_file))\n",
    "genera = ['Amentotaxus','Austrotaxus','Cephalotaxus','Taxus','Torreya','Pseudotaxus']\n",
    "\n",
    "pruned_names = []\n",
    "for n in genera:\n",
    "    for k,v in name_mapping.iteritems():\n",
    "        if v.startswith(n):\n",
    "            pruned_names.append(str(k))\n",
    "print pruned_names, "
   ]
  },
  {
   "cell_type": "code",
   "execution_count": 15,
   "metadata": {
    "collapsed": true
   },
   "outputs": [],
   "source": [
    "def get_pruned_names_abbr(t, pruned_names):\n",
    "    r = []\n",
    "    mapping = {}\n",
    "    for leaf in t:\n",
    "        for n in pruned_names:\n",
    "            if leaf.name.startswith(n):\n",
    "                r.append(leaf.name)\n",
    "                mapping[leaf.name] = name_mapping[n]\n",
    "    return r, mapping"
   ]
  },
  {
   "cell_type": "code",
   "execution_count": 25,
   "metadata": {
    "collapsed": false
   },
   "outputs": [
    {
     "name": "stdout",
     "output_type": "stream",
     "text": [
      "all-conifers_5341.filtered.fna.cleaned.muscle_aln.trimmed.fasttree_nwk\n"
     ]
    }
   ],
   "source": [
    "directory = '../data/conifers/'\n",
    "\n",
    "trees = {}\n",
    "cnt = 0\n",
    "for dirpath, dirnames, filenames in os.walk(directory):\n",
    "    for filename in filenames:\n",
    "        if filename.endswith('nwk'):\n",
    "            with open(os.path.join(dirpath, filename)) as f:\n",
    "                trees[filename] = ete3.Tree(f.readline().strip(), format=5)\n",
    "                p, mapping = get_pruned_names_abbr(trees[filename], pruned_names)\n",
    "                try:\n",
    "                    trees[filename].prune(p)\n",
    "                    #for leaf in trees[filename]:\n",
    "                    #    leaf.name = mapping[leaf.name]\n",
    "                    cnt += 1\n",
    "                except:\n",
    "                    print filename\n",
    "                    del trees[filename]     \n",
    "                       "
   ]
  },
  {
   "cell_type": "code",
   "execution_count": 26,
   "metadata": {
    "collapsed": false
   },
   "outputs": [
    {
     "name": "stdout",
     "output_type": "stream",
     "text": [
      "3159\n",
      "((NVGZ_2008606:0,NVGZ_2008607:0):0.05102,((EFMS_2009672:0.02161,IAJW_2020179:0.01581):0.01974,(ZYAX_2073852:0.02392,(BTTS_2076622:0.00054,YLPM_2007099:0.00055):0.0157):0.02363):0.00425);\n",
      "3159\n"
     ]
    }
   ],
   "source": [
    "print cnt\n",
    "output_dir = '../data/pruned_conifers_sample/'\n",
    "print trees['all-conifers_4525.filtered.fna.cleaned.muscle_aln.trimmed.fasttree_nwk'].write(format=5)\n",
    "print len(trees.keys())"
   ]
  },
  {
   "cell_type": "code",
   "execution_count": 31,
   "metadata": {
    "collapsed": false
   },
   "outputs": [],
   "source": [
    "def has_duplicate(tree):\n",
    "    name_hash = {}\n",
    "    for leaf in tree:\n",
    "        x = leaf.name[:4]\n",
    "        if x in name_hash:\n",
    "            return True\n",
    "        name_hash[x] = True\n"
   ]
  },
  {
   "cell_type": "code",
   "execution_count": 34,
   "metadata": {
    "collapsed": false
   },
   "outputs": [
    {
     "name": "stdout",
     "output_type": "stream",
     "text": [
      "1836\n"
     ]
    }
   ],
   "source": [
    "cnt = 0\n",
    "for k,v in trees.iteritems():\n",
    "    if not has_duplicate(v):\n",
    "        cnt += 1\n",
    "        for leaf in v:\n",
    "            leaf.name = name_mapping[leaf.name[:4]]\n",
    "        v.write(outfile=os.path.join('../data/pruned_conifer_single_gene/', \n",
    "                                     k.replace('all-conifers', 'pruned-conifers')), format=5)\n",
    "\n",
    "print cnt"
   ]
  },
  {
   "cell_type": "code",
   "execution_count": 27,
   "metadata": {
    "collapsed": true
   },
   "outputs": [],
   "source": [
    "i = 0\n",
    "for k,v in trees.iteritems():\n",
    "    v.write(outfile=os.path.join(output_dir, k.replace('all-conifers', 'pruned-conifers')), format=5)\n",
    "    i += 1\n",
    "    if i > 999:\n",
    "        break"
   ]
  },
  {
   "cell_type": "code",
   "execution_count": null,
   "metadata": {
    "collapsed": true
   },
   "outputs": [],
   "source": []
  }
 ],
 "metadata": {
  "anaconda-cloud": {},
  "kernelspec": {
   "display_name": "Python [default]",
   "language": "python",
   "name": "python2"
  },
  "language_info": {
   "codemirror_mode": {
    "name": "ipython",
    "version": 2
   },
   "file_extension": ".py",
   "mimetype": "text/x-python",
   "name": "python",
   "nbconvert_exporter": "python",
   "pygments_lexer": "ipython2",
   "version": "2.7.12"
  }
 },
 "nbformat": 4,
 "nbformat_minor": 2
}
